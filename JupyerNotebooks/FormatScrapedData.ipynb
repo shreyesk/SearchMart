{
  "nbformat": 4,
  "nbformat_minor": 0,
  "metadata": {
    "colab": {
      "name": "FormatScrapedData.ipynb",
      "provenance": [],
      "collapsed_sections": [],
      "toc_visible": true
    },
    "kernelspec": {
      "name": "python3",
      "display_name": "Python 3"
    }
  },
  "cells": [
    {
      "cell_type": "code",
      "metadata": {
        "id": "ycb9rX6hQw5p"
      },
      "source": [
        "import sys\n",
        "import os"
      ],
      "execution_count": null,
      "outputs": []
    },
    {
      "cell_type": "code",
      "metadata": {
        "id": "AufQgpVGRL6Y"
      },
      "source": [
        "path = '/content/drive/My Drive/Datathon2020/scraped_data/'"
      ],
      "execution_count": null,
      "outputs": []
    },
    {
      "cell_type": "code",
      "metadata": {
        "id": "_FVw2SclRXvU"
      },
      "source": [
        "products_directory = {}\n",
        "file_list = os.listdir(path)\n",
        "for file in file_list:\n",
        "  if file.endswith('_products.txt'):\n",
        "    f = open(os.path.join(path + file), 'r')\n",
        "    products_in_file = f.read().split('\\n')\n",
        "    for i in range(len(products_in_file)):\n",
        "      if i == 0 or i == len(products_in_file) - 1:\n",
        "        continue\n",
        "      product, url = products_in_file[i].split(' : ')\n",
        "      products_directory[product] = (url, file.split('_')[0])"
      ],
      "execution_count": null,
      "outputs": []
    },
    {
      "cell_type": "code",
      "metadata": {
        "id": "veQlm41nWa3g"
      },
      "source": [
        "products_connections = {}\n",
        "for product in products_directory:\n",
        "  products_connections[product] = []\n",
        "for file in file_list:\n",
        "  if file.endswith('_links.txt'):\n",
        "    f = open(os.path.join(path + file), 'r')\n",
        "    links_in_file = f.read().split('\\n')\n",
        "    for i in range(len(links_in_file)):\n",
        "      if i == 0 or i == len(links_in_file) - 1:\n",
        "        continue\n",
        "      product, links_string = links_in_file[i].split(' : ')\n",
        "      links = links_string.strip('][').split(', ')\n",
        "      products_connections[product] = links"
      ],
      "execution_count": null,
      "outputs": []
    },
    {
      "cell_type": "code",
      "metadata": {
        "id": "l317_79VXX_g"
      },
      "source": [
        "f_products = open('/content/drive/My Drive/Datathon2020/formatted_data/all_products.txt', 'w')\n",
        "for key, value in products_directory.items():\n",
        "  f_products.write(value[1] + ',')\n",
        "  f_products.write(key + ',')\n",
        "  f_products.write(value[0])\n",
        "  f_products.write('\\n')\n",
        "f_products.close()\n",
        "f_links = open('/content/drive/My Drive/Datathon2020/formatted_data/all_links.txt', 'w')\n",
        "for key, value in products_connections.items():\n",
        "  f_links.write(key + ' : ')\n",
        "  f_links.write(str(value))\n",
        "  f_links.write('\\n')\n",
        "f_links.close()"
      ],
      "execution_count": null,
      "outputs": []
    }
  ]
}